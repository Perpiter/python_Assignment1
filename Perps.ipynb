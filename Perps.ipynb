{
 "cells": [
  {
   "cell_type": "markdown",
   "id": "e1ec84b7-f1ed-4a72-93cb-1f86d9d383ab",
   "metadata": {},
   "source": [
    "# Question 1"
   ]
  },
  {
   "cell_type": "markdown",
   "id": "c2d57b27-2e30-48fc-88a3-d572e34244b8",
   "metadata": {},
   "source": [
    "\n",
    " Num_1 = input(\"Please enter the number of oranges\")\n",
    "Num_2 = input(\"Please enter the number of apples\")\n",
    "total =Num_1 + Num_2\n",
    "\n",
    "#print(\"The total fruit bougth is \", Num_1 + Num_2)\n",
    "print(\"The total fruit bougth is \", total)\n",
    "\n",
    "\n",
    "\n"
   ]
  },
  {
   "cell_type": "markdown",
   "id": "e6fad5c7-d88d-4340-967c-02e2e34b5513",
   "metadata": {
    "jp-MarkdownHeadingCollapsed": true,
    "tags": []
   },
   "source": [
    "# Question 2"
   ]
  },
  {
   "cell_type": "code",
   "execution_count": 29,
   "id": "20d07d14-3664-4034-a218-6a6794ad3405",
   "metadata": {},
   "outputs": [
    {
     "name": "stdin",
     "output_type": "stream",
     "text": [
      "Plsease enter your name 56\n"
     ]
    },
    {
     "name": "stdout",
     "output_type": "stream",
     "text": [
      "Awwn Happy happy birthday dear.Cheers to greateness\n"
     ]
    }
   ],
   "source": [
    "Name = input( \"Plsease enter your name\")\n",
    "print (\"Awwn Happy happy birthday dear.Cheers to greateness\")"
   ]
  },
  {
   "cell_type": "markdown",
   "id": "57b81a39-f3b3-4966-bc1d-886402248bab",
   "metadata": {},
   "source": [
    "# Question 4"
   ]
  },
  {
   "cell_type": "code",
   "execution_count": 19,
   "id": "2801e6a8-b766-40bd-99c9-d07cdb31a02f",
   "metadata": {},
   "outputs": [
    {
     "name": "stdin",
     "output_type": "stream",
     "text": [
      "Please enter your name prtp\n",
      "Kindly input yiur age 23\n"
     ]
    },
    {
     "name": "stdout",
     "output_type": "stream",
     "text": [
      "Hello,you are prtp and  of the age 23 . Your are warmly welcom to our apartment\n"
     ]
    }
   ],
   "source": [
    "Name =input(\"Please enter your name\")\n",
    "age = input(\"Kindly input yiur age\")\n",
    "print(\"Hello,you are\", Name,\"and  of the age\",age,\". Your are warmly welcom to our apartment\")\n"
   ]
  },
  {
   "cell_type": "markdown",
   "id": "b57262b9-7d4a-4a4b-824e-eb624bba2a1f",
   "metadata": {},
   "source": [
    "# Question 5"
   ]
  },
  {
   "cell_type": "code",
   "execution_count": 28,
   "id": "b0304e61-5158-45a1-9f01-fbf6bf7b27ab",
   "metadata": {},
   "outputs": [
    {
     "name": "stdin",
     "output_type": "stream",
     "text": [
      "Plsease enter your price of the product 78\n"
     ]
    },
    {
     "name": "stdout",
     "output_type": "stream",
     "text": [
      "You have a discount of 7% and so the price is now 72.53999999999999  thankRealP you\n"
     ]
    }
   ],
   "source": [
    "Number = float(input( \"Plsease enter your price of the product\"))\n",
    "\n",
    "discount = 0.07 * Number\n",
    "RealP =  Number-discount \n",
    "print(\"You have a discount of 7% and so the price is now\",RealP,\" thankRealP you\")"
   ]
  },
  {
   "cell_type": "markdown",
   "id": "9bd48597-4246-4599-a299-714b10c7df58",
   "metadata": {},
   "source": [
    "# Question 1"
   ]
  },
  {
   "cell_type": "code",
   "execution_count": 38,
   "id": "cdae7488-a8e6-407e-b328-3c68f0ec48b6",
   "metadata": {},
   "outputs": [
    {
     "ename": "SyntaxError",
     "evalue": "invalid syntax (Temp/ipykernel_2872/275468105.py, line 3)",
     "output_type": "error",
     "traceback": [
      "\u001b[1;36m  File \u001b[1;32m\"C:\\Users\\HIGHLY~1\\AppData\\Local\\Temp/ipykernel_2872/275468105.py\"\u001b[1;36m, line \u001b[1;32m3\u001b[0m\n\u001b[1;33m    toal = (Num_1'+'Num_2)\u001b[0m\n\u001b[1;37m                 ^\u001b[0m\n\u001b[1;31mSyntaxError\u001b[0m\u001b[1;31m:\u001b[0m invalid syntax\n"
     ]
    }
   ],
   "source": [
    "\n",
    " Num_1 = int(input(\"Please enter the number of oranges\"))\n",
    "Num_2 = int(input(\"Please enter the number of apples\"))\n",
    "toal = (Num_1 + Num_2)\n",
    "#sum (Num_1,Num_2)\n",
    "#print(\"The total fruit bougth is \", Num_1 + Num_2)\n",
    "print(\"The total fruit bougth is \", sum)"
   ]
  },
  {
   "cell_type": "markdown",
   "id": "49a05e51-ec25-4688-98ba-5e4b0a7a4131",
   "metadata": {},
   "source": [
    "# Question 6"
   ]
  },
  {
   "cell_type": "code",
   "execution_count": 31,
   "id": "5dd441f2-5c2b-428e-b81c-1aa38cf1cf8b",
   "metadata": {},
   "outputs": [
    {
     "name": "stdin",
     "output_type": "stream",
     "text": [
      "Please enter the first chemical basa\n",
      "Please enter the second chemical acid\n",
      "Please enter the last chemical oxgen\n"
     ]
    },
    {
     "name": "stdout",
     "output_type": "stream",
     "text": [
      "after mixing the chemicals,you wil get  basaacidoxgen\n"
     ]
    }
   ],
   "source": [
    "Chem_1 = input(\"Please enter the first chemical\")\n",
    "Chem_2 = input(\"Please enter the second chemical\")\n",
    "Chem_3 = input(\"Please enter the last chemical\")\n",
    "\n",
    "total_Chem = Chem_1 + Chem_2 +Chem_3 \n",
    "\n",
    "print(\"after mixing the chemicals,you wil get \",total_Chem)\n"
   ]
  },
  {
   "cell_type": "code",
   "execution_count": null,
   "id": "40a70b4f-a872-4587-ad30-30be0495c617",
   "metadata": {},
   "outputs": [],
   "source": []
  }
 ],
 "metadata": {
  "kernelspec": {
   "display_name": "Python 3 (ipykernel)",
   "language": "python",
   "name": "python3"
  },
  "language_info": {
   "codemirror_mode": {
    "name": "ipython",
    "version": 3
   },
   "file_extension": ".py",
   "mimetype": "text/x-python",
   "name": "python",
   "nbconvert_exporter": "python",
   "pygments_lexer": "ipython3",
   "version": "3.9.7"
  }
 },
 "nbformat": 4,
 "nbformat_minor": 5
}
